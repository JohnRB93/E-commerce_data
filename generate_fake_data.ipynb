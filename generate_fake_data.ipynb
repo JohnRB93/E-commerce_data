{
 "cells": [
  {
   "cell_type": "markdown",
   "metadata": {},
   "source": [
    "# BlueShift Store Data\n",
    "    This notebook will generate a dummy data set of a made up online store called BlueShift.\n",
    "    The data set will consist of customers, products, sellers, and orders tables."
   ]
  },
  {
   "cell_type": "code",
   "execution_count": 1,
   "metadata": {},
   "outputs": [],
   "source": [
    "from faker import Faker\n",
    "from faker_commerce import Provider\n",
    "from random import choice\n",
    "import datetime\n",
    "import pandas as pd\n",
    "import sqlalchemy, pyodbc, os"
   ]
  },
  {
   "cell_type": "code",
   "execution_count": 2,
   "metadata": {},
   "outputs": [],
   "source": [
    "fake = Faker(['en_US'])"
   ]
  },
  {
   "cell_type": "markdown",
   "metadata": {},
   "source": [
    "### The customers table will have 5,000 rows with colomns:\n",
    "    ID [Primary Key]\n",
    "    First_Name - Customer's first name\n",
    "    Last_Name - Customer's last name\n",
    "    Gender - Customer's gender\n",
    "    Address - Customer's address\n",
    "    E-mail - Customer's e-mail address\n",
    "    Primary_Payment_Method - Payment method customer uses most often"
   ]
  },
  {
   "cell_type": "code",
   "execution_count": 3,
   "metadata": {},
   "outputs": [],
   "source": [
    "customer_ids = {'Header': 'ID', 'Values': []}\n",
    "customer_first_names = {'Header': 'First_Name', 'Values': []}\n",
    "customer_last_names = {'Header': 'Last_Name', 'Values': []}\n",
    "genders = {'Header': 'Gender', 'Values': []}\n",
    "street_addresses = {'Header': 'Street_Address', 'Values': []}\n",
    "cities = {'Header': 'City', 'Values': []}\n",
    "customer_states = {'Header': 'State', 'Values': []}\n",
    "customer_zipcodes = {'Header': 'Postal', 'Values': []}\n",
    "customer_emails = {'Header': 'Email', 'Values': []}\n",
    "pay_methods = {'Header': 'Primary_Payment_Methods', 'Values': []}\n",
    "\n",
    "for _ in range(5_000):\n",
    "    customer_ids['Values'].append(fake.unique.random_int(min=10_000, max=99_999))\n",
    "    customer_first_names['Values'].append(fake.first_name())\n",
    "    customer_last_names['Values'].append(fake.last_name())\n",
    "    genders['Values'].append(choice(['Male', 'Female']))\n",
    "    street_addresses['Values'].append(fake.street_address())\n",
    "    cities['Values'].append(fake.city())\n",
    "    customer_states['Values'].append(fake.state())\n",
    "    customer_zipcodes['Values'].append(fake.postcode())\n",
    "    customer_emails['Values'].append(fake.email())\n",
    "    pay_methods['Values'].append(choice(['Credit Card', 'PayPal', 'E-Wallet']))"
   ]
  },
  {
   "cell_type": "markdown",
   "metadata": {},
   "source": [
    "### The products table will have 150 rows with columns:\n",
    "    ID [Primary Key]\n",
    "    Product_Name - Name of product\n",
    "    Unit_Price - Price of individual product"
   ]
  },
  {
   "cell_type": "code",
   "execution_count": 4,
   "metadata": {},
   "outputs": [],
   "source": [
    "product_ids = {'Header': 'ID', 'Values': []}\n",
    "product_names = {'Header': 'Name', 'Values': []}\n",
    "unit_prices = {'Header': 'Unit_Price', 'Values': []}\n",
    "\n",
    "fake.add_provider(Provider)\n",
    "\n",
    "for _ in range(150):\n",
    "    product_ids['Values'].append(fake.unique.random_int(min=1_000, max=9_999))\n",
    "    product_names['Values'].append(fake.unique.ecommerce_name())\n",
    "    unit_prices['Values'].append(float(fake.random_int(min=5, max=999))*.99)"
   ]
  },
  {
   "cell_type": "markdown",
   "metadata": {},
   "source": [
    "### The sellers table will have 988 rows with columns:\n",
    "    ID [Primary Key]\n",
    "    First_Name - Seller's first name\n",
    "    Last_Name - Seller's last name\n",
    "    State - State where seller lives\n",
    "    Five_Stars - Number of five-star reviews\n",
    "    Four_Stars - Number of four-star reviews\n",
    "    Three_Stars - Number of three-star reviews\n",
    "    Two_Stars - Number of two-star reviews\n",
    "    One_Stars - Number of one-star reviews"
   ]
  },
  {
   "cell_type": "code",
   "execution_count": 5,
   "metadata": {},
   "outputs": [],
   "source": [
    "seller_ids = {'Header': 'ID', 'Values': []}\n",
    "seller_first_names = {'Header': 'First_Name', 'Values': []}\n",
    "seller_last_names = {'Header': 'Last_Name', 'Values': []}\n",
    "seller_states = {'Header': 'State', 'Values': []}\n",
    "seller_five_stars = {'Header': 'Five_Star_Reviews', 'Values': []}\n",
    "seller_four_stars = {'Header': 'Four_Star_Reviews', 'Values': []}\n",
    "seller_three_stars = {'Header': 'Three_Star_Reviews', 'Values': []}\n",
    "seller_two_stars = {'Header': 'Two_Star_Reviews', 'Values': []}\n",
    "seller_one_stars = {'Header': 'One_Star_Reviews', 'Values': []}\n",
    "\n",
    "for _ in range(988):\n",
    "    seller_ids['Values'].append(fake.unique.random_int(min=100_000, max=899_999))\n",
    "    seller_first_names['Values'].append(fake.first_name())\n",
    "    seller_last_names['Values'].append(fake.first_name())\n",
    "    seller_states['Values'].append(fake.state())\n",
    "    seller_five_stars['Values'].append(fake.random_int(min=1, max=100))\n",
    "    seller_four_stars['Values'].append(fake.random_int(min=1, max=100))\n",
    "    seller_three_stars['Values'].append(fake.random_int(min=1, max=100))\n",
    "    seller_two_stars['Values'].append(fake.random_int(min=1, max=100))\n",
    "    seller_one_stars['Values'].append(fake.random_int(min=1, max=100))"
   ]
  },
  {
   "cell_type": "markdown",
   "metadata": {},
   "source": [
    "### The orders table will have 45000 to 55000 rows with columns:\n",
    "    ID [Primary Key]\n",
    "    Customer_ID [Foreign Key]\n",
    "    Seller_ID [Foreign Key]\n",
    "    Number_of_Items - Number of items in the order (can include unique and/or duplicate items)\n",
    "    Order_Date - Date the order was placed, the years used are 2021 and 2022\n",
    "    Order_Time - Time the order was placed\n",
    "    Estimated_Delivery_Date - Date the order was estimated to arrive to the customer\n",
    "    Date_Delivered - Date the order was actually delivered"
   ]
  },
  {
   "cell_type": "code",
   "execution_count": 6,
   "metadata": {},
   "outputs": [],
   "source": [
    "order_ids = {'Header': 'ID', 'Values': []}\n",
    "o_customer_ids = {'Header': 'Customer_ID', 'Values': []}\n",
    "o_seller_ids = {'Header': 'Seller_ID', 'Values': []}\n",
    "number_of_items = {'Header': 'Number_of_Items', 'Values': []}\n",
    "order_dates = {'Header': 'Order_Date', 'Values': []}\n",
    "order_times = {'Header': 'Order_Time', 'Values': []}\n",
    "est_deliv_dates = {'Header': 'Estimated_Delivery_Date', 'Values': []}\n",
    "date_delivered = {'Header': 'Date_delivered', 'Values': []}\n",
    "order_item_count_dict = {}\n",
    "\n",
    "num_rows = fake.random_int(min=45_000, max=55_000)\n",
    "for _ in range(num_rows):\n",
    "    o_id = fake.unique.random_int(min=1_000_000, max=3_499_999)\n",
    "    order_ids['Values'].append(o_id)\n",
    "    o_customer_ids['Values'].append(choice(customer_ids['Values']))\n",
    "    o_seller_ids['Values'].append(choice(seller_ids['Values']))\n",
    "    num = fake.random_int(min=1, max=8)\n",
    "    number_of_items['Values'].append(num)\n",
    "    \n",
    "    date = fake.date_between(datetime.date(2021, 1, 1), datetime.date(2022, 12, 31))\n",
    "    date_str = date.strftime('%Y-%m-%d')\n",
    "    order_dates['Values'].append(date_str)\n",
    "    \n",
    "    order_times['Values'].append(fake.time())\n",
    "    \n",
    "    est_delta = datetime.timedelta(days=fake.random_int(min=3, max=7))\n",
    "    est_delta_str = fake.date_between(date, date + est_delta).strftime('%Y-%m-%d')\n",
    "    est_deliv_dates['Values'].append(est_delta_str)\n",
    "    \n",
    "    real_delta = datetime.timedelta(days=fake.random_int(min=3, max=9))\n",
    "    real_delta_str = fake.date_between(date, date + real_delta).strftime('%Y-%m-%d')\n",
    "    date_delivered['Values'].append(real_delta_str)\n",
    "    \n",
    "    # Find how many items each order has\n",
    "    order_item_count_dict[o_id] = num"
   ]
  },
  {
   "cell_type": "markdown",
   "metadata": {},
   "source": [
    "### The product_orders table will have [___] rows with columns:\n",
    "\n",
    "    Order_ID [Foreign Key]\n",
    "    Product_ID [Foreign Key]"
   ]
  },
  {
   "cell_type": "code",
   "execution_count": 7,
   "metadata": {},
   "outputs": [],
   "source": [
    "po_order_ids = {'Header': 'Order_ID', 'Values': []}\n",
    "po_product_ids = {'Header': 'Product_ID', 'Values': []}\n",
    "\n",
    "for order_id_index in range(len(order_ids['Values'])):\n",
    "    num = number_of_items['Values'][order_id_index]\n",
    "    for _ in range(num):\n",
    "        po_order_ids['Values'].append(order_ids['Values'][order_id_index])\n",
    "        po_product_ids['Values'].append(choice(product_ids['Values']))"
   ]
  },
  {
   "cell_type": "code",
   "execution_count": 8,
   "metadata": {},
   "outputs": [
    {
     "name": "stdout",
     "output_type": "stream",
     "text": [
      "203826\n",
      "203826\n"
     ]
    }
   ],
   "source": [
    "# Check that po_order_ids and po_product_ids have the same number of elements\n",
    "print(len(po_order_ids['Values']))\n",
    "print(len(po_product_ids['Values']))"
   ]
  },
  {
   "cell_type": "markdown",
   "metadata": {},
   "source": [
    "### Write the customers table to a .csv file"
   ]
  },
  {
   "cell_type": "code",
   "execution_count": 9,
   "metadata": {},
   "outputs": [],
   "source": [
    "customer_df = pd.DataFrame()\n",
    "customer_df.insert(loc=0, column=customer_ids['Header'], value=customer_ids['Values'])\n",
    "customer_df.insert(loc=1, column=customer_first_names['Header'], value=customer_first_names['Values'])\n",
    "customer_df.insert(loc=2, column=customer_last_names['Header'], value=customer_last_names['Values'])\n",
    "customer_df.insert(loc=3, column=genders['Header'], value=genders['Values'])\n",
    "customer_df.insert(loc=4, column=street_addresses['Header'], value=street_addresses['Values'])\n",
    "customer_df.insert(loc=5, column=cities['Header'], value=cities['Values'])\n",
    "customer_df.insert(loc=6, column=customer_states['Header'], value=customer_states['Values'])\n",
    "customer_df.insert(loc=7, column=customer_zipcodes['Header'], value=customer_zipcodes['Values'])\n",
    "customer_df.insert(loc=8, column=customer_emails['Header'], value=customer_emails['Values'])\n",
    "customer_df.insert(loc=9, column=pay_methods['Header'], value=pay_methods['Values'])\n",
    "\n",
    "filename = 'csv_files\\\\customer_fake_data.csv'\n",
    "customer_df.to_csv(path_or_buf=filename, mode='w', index=False)"
   ]
  },
  {
   "cell_type": "markdown",
   "metadata": {},
   "source": [
    "### Write the products table to a .csv file"
   ]
  },
  {
   "cell_type": "code",
   "execution_count": 10,
   "metadata": {},
   "outputs": [],
   "source": [
    "product_df = pd.DataFrame()\n",
    "product_df.insert(loc=0, column=product_ids['Header'], value=product_ids['Values'])\n",
    "product_df.insert(loc=1, column=product_names['Header'], value=product_names['Values'])\n",
    "product_df.insert(loc=2, column=unit_prices['Header'], value=unit_prices['Values'])\n",
    "\n",
    "filename = 'csv_files\\\\product_fake_data.csv'\n",
    "product_df.to_csv(path_or_buf=filename, mode='w', index=False)"
   ]
  },
  {
   "cell_type": "markdown",
   "metadata": {},
   "source": [
    "### Write the sellers table to a .csv file"
   ]
  },
  {
   "cell_type": "code",
   "execution_count": 11,
   "metadata": {},
   "outputs": [],
   "source": [
    "seller_df = pd.DataFrame()\n",
    "seller_df.insert(loc=0, column=seller_ids['Header'], value=seller_ids['Values'])\n",
    "seller_df.insert(loc=1, column=seller_first_names['Header'], value=seller_first_names['Values'])\n",
    "seller_df.insert(loc=2, column=seller_last_names['Header'], value=seller_last_names['Values'])\n",
    "seller_df.insert(loc=3, column=seller_states['Header'], value=seller_states['Values'])\n",
    "seller_df.insert(loc=4, column=seller_five_stars['Header'], value=seller_five_stars['Values'])\n",
    "seller_df.insert(loc=5, column=seller_four_stars['Header'], value=seller_four_stars['Values'])\n",
    "seller_df.insert(loc=6, column=seller_three_stars['Header'], value=seller_three_stars['Values'])\n",
    "seller_df.insert(loc=7, column=seller_two_stars['Header'], value=seller_two_stars['Values'])\n",
    "seller_df.insert(loc=8, column=seller_one_stars['Header'], value=seller_one_stars['Values'])\n",
    "\n",
    "filename = 'csv_files\\\\seller_fake_data.csv'\n",
    "seller_df.to_csv(path_or_buf=filename, mode='w', index=False)"
   ]
  },
  {
   "cell_type": "markdown",
   "metadata": {},
   "source": [
    "### Write the orders table to a .csv file"
   ]
  },
  {
   "cell_type": "code",
   "execution_count": 12,
   "metadata": {},
   "outputs": [],
   "source": [
    "order_df = pd.DataFrame()\n",
    "order_df.insert(loc=0, column=order_ids['Header'], value=order_ids['Values'])\n",
    "order_df.insert(loc=1, column=o_customer_ids['Header'], value=o_customer_ids['Values'])\n",
    "order_df.insert(loc=2, column=o_seller_ids['Header'], value=o_seller_ids['Values'])\n",
    "order_df.insert(loc=3, column=number_of_items['Header'], value=number_of_items['Values'])\n",
    "order_df.insert(loc=4, column=order_dates['Header'], value=order_dates['Values'])\n",
    "order_df.insert(loc=5, column=order_times['Header'], value=order_times['Values'])\n",
    "order_df.insert(loc=6, column=est_deliv_dates['Header'], value=est_deliv_dates['Values'])\n",
    "order_df.insert(loc=7, column=date_delivered['Header'], value=date_delivered['Values'])\n",
    "\n",
    "filename = 'csv_files\\\\order_fake_data.csv'\n",
    "order_df.to_csv(path_or_buf=filename, mode='w', index=False)"
   ]
  },
  {
   "cell_type": "markdown",
   "metadata": {},
   "source": [
    "### Write the product_orders table to a .csv file"
   ]
  },
  {
   "cell_type": "code",
   "execution_count": 13,
   "metadata": {},
   "outputs": [],
   "source": [
    "product_order_df = pd.DataFrame()\n",
    "product_order_df.insert(loc=0, column=po_order_ids['Header'], value=po_order_ids['Values'])\n",
    "product_order_df.insert(loc=1, column=po_product_ids['Header'], value=po_product_ids['Values'])\n",
    "\n",
    "filename = 'csv_files\\\\product_order_fake_data.csv'\n",
    "product_order_df.to_csv(path_or_buf=filename, mode='w', index=False)"
   ]
  },
  {
   "cell_type": "markdown",
   "metadata": {},
   "source": [
    "## Import files to SQL Server"
   ]
  },
  {
   "cell_type": "code",
   "execution_count": 14,
   "metadata": {},
   "outputs": [
    {
     "name": "stdout",
     "output_type": "stream",
     "text": [
      "['SQL Server', 'SQL Server Native Client RDA 11.0', 'ODBC Driver 17 for SQL Server']\n"
     ]
    }
   ],
   "source": [
    "# Find which ODBC driver to use in the connection string\n",
    "print(pyodbc.drivers())"
   ]
  },
  {
   "cell_type": "code",
   "execution_count": 15,
   "metadata": {},
   "outputs": [
    {
     "data": {
      "text/plain": [
       "826"
      ]
     },
     "execution_count": 15,
     "metadata": {},
     "output_type": "execute_result"
    }
   ],
   "source": [
    "# Create connection to SQL Server database\n",
    "connection_string = f'mssql+pyodbc://{os.environ.get(\"SQL_AUTH\")}/Synthetic_e-commerce_store?driver=ODBC+Driver+17+for+SQL+Server'\n",
    "conn = sqlalchemy.create_engine(connection_string)\n",
    "customer_df.to_sql('customers', con=conn, if_exists='append', index=False)\n",
    "product_df.to_sql('products', con=conn, if_exists='append', index=False)\n",
    "seller_df.to_sql('sellers', con=conn, if_exists='append', index=False)\n",
    "order_df.to_sql('orders', con=conn, if_exists='append', index=False)\n",
    "product_order_df.to_sql('product_orders', con=conn, if_exists='append',index=False)"
   ]
  }
 ],
 "metadata": {
  "kernelspec": {
   "display_name": ".venv",
   "language": "python",
   "name": "python3"
  },
  "language_info": {
   "codemirror_mode": {
    "name": "ipython",
    "version": 3
   },
   "file_extension": ".py",
   "mimetype": "text/x-python",
   "name": "python",
   "nbconvert_exporter": "python",
   "pygments_lexer": "ipython3",
   "version": "3.10.5"
  },
  "orig_nbformat": 4
 },
 "nbformat": 4,
 "nbformat_minor": 2
}
